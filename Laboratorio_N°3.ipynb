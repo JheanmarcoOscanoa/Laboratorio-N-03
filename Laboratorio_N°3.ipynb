{
  "cells": [
    {
      "cell_type": "markdown",
      "metadata": {
        "id": "view-in-github",
        "colab_type": "text"
      },
      "source": [
        "<a href=\"https://colab.research.google.com/github/JheanmarcoOscanoa/Laboratorio-N-03/blob/main/Laboratorio_N%C2%B03.ipynb\" target=\"_parent\"><img src=\"https://colab.research.google.com/assets/colab-badge.svg\" alt=\"Open In Colab\"/></a>"
      ]
    },
    {
      "cell_type": "markdown",
      "id": "225bffac",
      "metadata": {
        "id": "225bffac"
      },
      "source": [
        "ARQUITECTURA DE UN DATA WAREHOUSE. CARGA Y MANTENIMIENTO. CUBOS DE DATOS"
      ]
    },
    {
      "cell_type": "markdown",
      "id": "72272948",
      "metadata": {
        "id": "72272948"
      },
      "source": [
        " Integrantes:\n",
        "\n",
        " * OSCANOA VARGAS Jheanmarco Deivis  \n",
        "\n",
        " * TRUJILLO TELLO Fiorella Yanina"
      ]
    },
    {
      "cell_type": "markdown",
      "id": "92949e54",
      "metadata": {
        "id": "92949e54"
      },
      "source": [
        "Evaluación de Autos\n",
        "\n",
        "Este informe muestra el tratamiento de datos categóricos a partir de una base de datos del repositorio UCI Machine Learning Repository. El objetivo es realizar una exploración, limpieza, transformación y exportación de datos usando Python."
      ]
    },
    {
      "cell_type": "markdown",
      "id": "eca47c37",
      "metadata": {
        "id": "eca47c37"
      },
      "source": [
        "## 1. Importación de librerías necesarias\n",
        "Importamos `pandas` para manipular los datos y `numpy` para operaciones sobre arreglos."
      ]
    },
    {
      "cell_type": "code",
      "execution_count": null,
      "id": "33a7ccd3",
      "metadata": {
        "id": "33a7ccd3"
      },
      "outputs": [],
      "source": [
        "import pandas as pd\n",
        "import numpy as np"
      ]
    },
    {
      "cell_type": "markdown",
      "id": "9844090c",
      "metadata": {
        "id": "9844090c"
      },
      "source": [
        "## 2. Carga del conjunto de datos\n",
        "Cargamos el archivo directamente desde el repositorio UCI. Definimos los nombres de las columnas según la descripción oficial del dataset."
      ]
    },
    {
      "cell_type": "code",
      "execution_count": null,
      "id": "8b889b05",
      "metadata": {
        "id": "8b889b05",
        "outputId": "c7f36fee-d156-41aa-c253-1125b366bb25"
      },
      "outputs": [
        {
          "data": {
            "text/html": [
              "<div>\n",
              "<style scoped>\n",
              "    .dataframe tbody tr th:only-of-type {\n",
              "        vertical-align: middle;\n",
              "    }\n",
              "\n",
              "    .dataframe tbody tr th {\n",
              "        vertical-align: top;\n",
              "    }\n",
              "\n",
              "    .dataframe thead th {\n",
              "        text-align: right;\n",
              "    }\n",
              "</style>\n",
              "<table border=\"1\" class=\"dataframe\">\n",
              "  <thead>\n",
              "    <tr style=\"text-align: right;\">\n",
              "      <th></th>\n",
              "      <th>buying</th>\n",
              "      <th>maint</th>\n",
              "      <th>doors</th>\n",
              "      <th>persons</th>\n",
              "      <th>lug_boot</th>\n",
              "      <th>safety</th>\n",
              "      <th>class</th>\n",
              "    </tr>\n",
              "  </thead>\n",
              "  <tbody>\n",
              "    <tr>\n",
              "      <th>0</th>\n",
              "      <td>vhigh</td>\n",
              "      <td>vhigh</td>\n",
              "      <td>2</td>\n",
              "      <td>2</td>\n",
              "      <td>small</td>\n",
              "      <td>low</td>\n",
              "      <td>unacc</td>\n",
              "    </tr>\n",
              "    <tr>\n",
              "      <th>1</th>\n",
              "      <td>vhigh</td>\n",
              "      <td>vhigh</td>\n",
              "      <td>2</td>\n",
              "      <td>2</td>\n",
              "      <td>small</td>\n",
              "      <td>med</td>\n",
              "      <td>unacc</td>\n",
              "    </tr>\n",
              "    <tr>\n",
              "      <th>2</th>\n",
              "      <td>vhigh</td>\n",
              "      <td>vhigh</td>\n",
              "      <td>2</td>\n",
              "      <td>2</td>\n",
              "      <td>small</td>\n",
              "      <td>high</td>\n",
              "      <td>unacc</td>\n",
              "    </tr>\n",
              "    <tr>\n",
              "      <th>3</th>\n",
              "      <td>vhigh</td>\n",
              "      <td>vhigh</td>\n",
              "      <td>2</td>\n",
              "      <td>2</td>\n",
              "      <td>med</td>\n",
              "      <td>low</td>\n",
              "      <td>unacc</td>\n",
              "    </tr>\n",
              "    <tr>\n",
              "      <th>4</th>\n",
              "      <td>vhigh</td>\n",
              "      <td>vhigh</td>\n",
              "      <td>2</td>\n",
              "      <td>2</td>\n",
              "      <td>med</td>\n",
              "      <td>med</td>\n",
              "      <td>unacc</td>\n",
              "    </tr>\n",
              "  </tbody>\n",
              "</table>\n",
              "</div>"
            ],
            "text/plain": [
              "  buying  maint doors persons lug_boot safety  class\n",
              "0  vhigh  vhigh     2       2    small    low  unacc\n",
              "1  vhigh  vhigh     2       2    small    med  unacc\n",
              "2  vhigh  vhigh     2       2    small   high  unacc\n",
              "3  vhigh  vhigh     2       2      med    low  unacc\n",
              "4  vhigh  vhigh     2       2      med    med  unacc"
            ]
          },
          "execution_count": 2,
          "metadata": {},
          "output_type": "execute_result"
        }
      ],
      "source": [
        "url = 'https://archive.ics.uci.edu/ml/machine-learning-databases/car/car.data'\n",
        "columnas = ['buying', 'maint', 'doors', 'persons', 'lug_boot', 'safety', 'class']\n",
        "df = pd.read_csv(url, names=columnas)\n",
        "df.head()"
      ]
    },
    {
      "cell_type": "markdown",
      "id": "9175140f",
      "metadata": {
        "id": "9175140f"
      },
      "source": [
        "## 3. Tipos de datos por atributo\n",
        "Es importante conocer los tipos de datos de cada columna para aplicar correctamente transformaciones."
      ]
    },
    {
      "cell_type": "code",
      "execution_count": null,
      "id": "4fb4f1a7",
      "metadata": {
        "id": "4fb4f1a7",
        "outputId": "af98740e-5c80-4411-910d-3e0f56cd37e5"
      },
      "outputs": [
        {
          "data": {
            "text/plain": [
              "buying      object\n",
              "maint       object\n",
              "doors       object\n",
              "persons     object\n",
              "lug_boot    object\n",
              "safety      object\n",
              "class       object\n",
              "dtype: object"
            ]
          },
          "execution_count": 3,
          "metadata": {},
          "output_type": "execute_result"
        }
      ],
      "source": [
        "df.dtypes"
      ]
    },
    {
      "cell_type": "markdown",
      "id": "bafba68f",
      "metadata": {
        "id": "bafba68f"
      },
      "source": [
        "## 4. Valores únicos por atributo\n",
        "Visualizamos las categorías únicas en cada atributo para identificar posibles errores o necesidades de limpieza."
      ]
    },
    {
      "cell_type": "code",
      "execution_count": null,
      "id": "47ec94c2",
      "metadata": {
        "id": "47ec94c2",
        "outputId": "00f767eb-5286-4482-d723-1db6084aaf7f"
      },
      "outputs": [
        {
          "name": "stdout",
          "output_type": "stream",
          "text": [
            "buying: ['vhigh' 'high' 'med' 'low']\n",
            "maint: ['vhigh' 'high' 'med' 'low']\n",
            "doors: ['2' '3' '4' '5more']\n",
            "persons: ['2' '4' 'more']\n",
            "lug_boot: ['small' 'med' 'big']\n",
            "safety: ['low' 'med' 'high']\n",
            "class: ['unacc' 'acc' 'vgood' 'good']\n"
          ]
        }
      ],
      "source": [
        "for col in df.columns:\n",
        "    print(f\"{col}: {df[col].unique()}\")"
      ]
    },
    {
      "cell_type": "markdown",
      "id": "074e4268",
      "metadata": {
        "id": "074e4268"
      },
      "source": [
        "## 5. Conversión de tipo de dato\n",
        "En este paso, convertimos explícitamente la columna 'doors' a tipo texto (string)."
      ]
    },
    {
      "cell_type": "code",
      "execution_count": null,
      "id": "33c9749e",
      "metadata": {
        "id": "33c9749e"
      },
      "outputs": [],
      "source": [
        "df['doors'] = df['doors'].astype(str)"
      ]
    },
    {
      "cell_type": "markdown",
      "id": "08529bbb",
      "metadata": {
        "id": "08529bbb"
      },
      "source": [
        "## 6. Reemplazo de nombres en categorías\n",
        "Reemplazamos las categorías de la columna `lug_boot` por valores más descriptivos en español usando `np.where`."
      ]
    },
    {
      "cell_type": "code",
      "execution_count": null,
      "id": "fe127816",
      "metadata": {
        "id": "fe127816",
        "outputId": "a2764d20-71ad-4712-d9bc-5782f5b42659"
      },
      "outputs": [
        {
          "data": {
            "text/plain": [
              "array(['pequeño', 'mediano', 'grande'], dtype=object)"
            ]
          },
          "execution_count": 6,
          "metadata": {},
          "output_type": "execute_result"
        }
      ],
      "source": [
        "df['lug_boot'] = np.where(df['lug_boot'] == 'small', 'pequeño', df['lug_boot'])\n",
        "df['lug_boot'] = np.where(df['lug_boot'] == 'med', 'mediano', df['lug_boot'])\n",
        "df['lug_boot'] = np.where(df['lug_boot'] == 'big', 'grande', df['lug_boot'])\n",
        "df['lug_boot'].unique()"
      ]
    },
    {
      "cell_type": "markdown",
      "id": "71492374",
      "metadata": {
        "id": "71492374"
      },
      "source": [
        "## 7. Frecuencia de clases\n",
        "Contamos cuántas veces aparece cada categoría en la variable objetivo `class`."
      ]
    },
    {
      "cell_type": "code",
      "execution_count": null,
      "id": "90ea9b32",
      "metadata": {
        "id": "90ea9b32",
        "outputId": "0fcd4937-04b1-4ed2-c7cd-363024ff9a9a"
      },
      "outputs": [
        {
          "data": {
            "text/plain": [
              "class\n",
              "unacc    1210\n",
              "acc       384\n",
              "good       69\n",
              "vgood      65\n",
              "Name: count, dtype: int64"
            ]
          },
          "execution_count": 7,
          "metadata": {},
          "output_type": "execute_result"
        }
      ],
      "source": [
        "df['class'].value_counts()"
      ]
    },
    {
      "cell_type": "markdown",
      "id": "14588014",
      "metadata": {
        "id": "14588014"
      },
      "source": [
        "## 8. Renombrar columnas\n",
        "Cambiamos el nombre de la columna `lug_boot` por `trunk` (maletera) para mayor claridad."
      ]
    },
    {
      "cell_type": "code",
      "execution_count": null,
      "id": "807a1180",
      "metadata": {
        "id": "807a1180",
        "outputId": "9bcf6cc9-733a-41e8-ff1b-ee76b1e3d9d4"
      },
      "outputs": [
        {
          "data": {
            "text/html": [
              "<div>\n",
              "<style scoped>\n",
              "    .dataframe tbody tr th:only-of-type {\n",
              "        vertical-align: middle;\n",
              "    }\n",
              "\n",
              "    .dataframe tbody tr th {\n",
              "        vertical-align: top;\n",
              "    }\n",
              "\n",
              "    .dataframe thead th {\n",
              "        text-align: right;\n",
              "    }\n",
              "</style>\n",
              "<table border=\"1\" class=\"dataframe\">\n",
              "  <thead>\n",
              "    <tr style=\"text-align: right;\">\n",
              "      <th></th>\n",
              "      <th>buying</th>\n",
              "      <th>maint</th>\n",
              "      <th>doors</th>\n",
              "      <th>persons</th>\n",
              "      <th>trunk</th>\n",
              "      <th>safety</th>\n",
              "      <th>class</th>\n",
              "    </tr>\n",
              "  </thead>\n",
              "  <tbody>\n",
              "    <tr>\n",
              "      <th>0</th>\n",
              "      <td>vhigh</td>\n",
              "      <td>vhigh</td>\n",
              "      <td>2</td>\n",
              "      <td>2</td>\n",
              "      <td>pequeño</td>\n",
              "      <td>low</td>\n",
              "      <td>unacc</td>\n",
              "    </tr>\n",
              "    <tr>\n",
              "      <th>1</th>\n",
              "      <td>vhigh</td>\n",
              "      <td>vhigh</td>\n",
              "      <td>2</td>\n",
              "      <td>2</td>\n",
              "      <td>pequeño</td>\n",
              "      <td>med</td>\n",
              "      <td>unacc</td>\n",
              "    </tr>\n",
              "    <tr>\n",
              "      <th>2</th>\n",
              "      <td>vhigh</td>\n",
              "      <td>vhigh</td>\n",
              "      <td>2</td>\n",
              "      <td>2</td>\n",
              "      <td>pequeño</td>\n",
              "      <td>high</td>\n",
              "      <td>unacc</td>\n",
              "    </tr>\n",
              "    <tr>\n",
              "      <th>3</th>\n",
              "      <td>vhigh</td>\n",
              "      <td>vhigh</td>\n",
              "      <td>2</td>\n",
              "      <td>2</td>\n",
              "      <td>mediano</td>\n",
              "      <td>low</td>\n",
              "      <td>unacc</td>\n",
              "    </tr>\n",
              "    <tr>\n",
              "      <th>4</th>\n",
              "      <td>vhigh</td>\n",
              "      <td>vhigh</td>\n",
              "      <td>2</td>\n",
              "      <td>2</td>\n",
              "      <td>mediano</td>\n",
              "      <td>med</td>\n",
              "      <td>unacc</td>\n",
              "    </tr>\n",
              "  </tbody>\n",
              "</table>\n",
              "</div>"
            ],
            "text/plain": [
              "  buying  maint doors persons    trunk safety  class\n",
              "0  vhigh  vhigh     2       2  pequeño    low  unacc\n",
              "1  vhigh  vhigh     2       2  pequeño    med  unacc\n",
              "2  vhigh  vhigh     2       2  pequeño   high  unacc\n",
              "3  vhigh  vhigh     2       2  mediano    low  unacc\n",
              "4  vhigh  vhigh     2       2  mediano    med  unacc"
            ]
          },
          "execution_count": 8,
          "metadata": {},
          "output_type": "execute_result"
        }
      ],
      "source": [
        "df.rename(columns={'lug_boot': 'trunk'}, inplace=True)\n",
        "df.head()"
      ]
    },
    {
      "cell_type": "markdown",
      "id": "85693220",
      "metadata": {
        "id": "85693220"
      },
      "source": [
        "## 9. Dimensión del conjunto de datos\n",
        "Mostramos el número de filas (registros) y columnas (atributos)."
      ]
    },
    {
      "cell_type": "code",
      "execution_count": null,
      "id": "4cfca1ac",
      "metadata": {
        "id": "4cfca1ac",
        "outputId": "1b590343-ef5a-4e16-e7fb-3eed84a39b46"
      },
      "outputs": [
        {
          "name": "stdout",
          "output_type": "stream",
          "text": [
            "Shape: (1728, 7)\n"
          ]
        }
      ],
      "source": [
        "print('Shape:', df.shape)"
      ]
    },
    {
      "cell_type": "markdown",
      "id": "584010c0",
      "metadata": {
        "id": "584010c0"
      },
      "source": [
        "## 10. Vista previa de datos\n",
        "Visualizamos los primeros y últimos registros para verificar el contenido general del dataframe."
      ]
    },
    {
      "cell_type": "code",
      "execution_count": null,
      "id": "44fdadca",
      "metadata": {
        "id": "44fdadca",
        "outputId": "38317824-23b2-46ee-8d4d-e45173b5b4f2"
      },
      "outputs": [
        {
          "data": {
            "text/html": [
              "<div>\n",
              "<style scoped>\n",
              "    .dataframe tbody tr th:only-of-type {\n",
              "        vertical-align: middle;\n",
              "    }\n",
              "\n",
              "    .dataframe tbody tr th {\n",
              "        vertical-align: top;\n",
              "    }\n",
              "\n",
              "    .dataframe thead th {\n",
              "        text-align: right;\n",
              "    }\n",
              "</style>\n",
              "<table border=\"1\" class=\"dataframe\">\n",
              "  <thead>\n",
              "    <tr style=\"text-align: right;\">\n",
              "      <th></th>\n",
              "      <th>buying</th>\n",
              "      <th>maint</th>\n",
              "      <th>doors</th>\n",
              "      <th>persons</th>\n",
              "      <th>trunk</th>\n",
              "      <th>safety</th>\n",
              "      <th>class</th>\n",
              "    </tr>\n",
              "  </thead>\n",
              "  <tbody>\n",
              "    <tr>\n",
              "      <th>1723</th>\n",
              "      <td>low</td>\n",
              "      <td>low</td>\n",
              "      <td>5more</td>\n",
              "      <td>more</td>\n",
              "      <td>mediano</td>\n",
              "      <td>med</td>\n",
              "      <td>good</td>\n",
              "    </tr>\n",
              "    <tr>\n",
              "      <th>1724</th>\n",
              "      <td>low</td>\n",
              "      <td>low</td>\n",
              "      <td>5more</td>\n",
              "      <td>more</td>\n",
              "      <td>mediano</td>\n",
              "      <td>high</td>\n",
              "      <td>vgood</td>\n",
              "    </tr>\n",
              "    <tr>\n",
              "      <th>1725</th>\n",
              "      <td>low</td>\n",
              "      <td>low</td>\n",
              "      <td>5more</td>\n",
              "      <td>more</td>\n",
              "      <td>grande</td>\n",
              "      <td>low</td>\n",
              "      <td>unacc</td>\n",
              "    </tr>\n",
              "    <tr>\n",
              "      <th>1726</th>\n",
              "      <td>low</td>\n",
              "      <td>low</td>\n",
              "      <td>5more</td>\n",
              "      <td>more</td>\n",
              "      <td>grande</td>\n",
              "      <td>med</td>\n",
              "      <td>good</td>\n",
              "    </tr>\n",
              "    <tr>\n",
              "      <th>1727</th>\n",
              "      <td>low</td>\n",
              "      <td>low</td>\n",
              "      <td>5more</td>\n",
              "      <td>more</td>\n",
              "      <td>grande</td>\n",
              "      <td>high</td>\n",
              "      <td>vgood</td>\n",
              "    </tr>\n",
              "  </tbody>\n",
              "</table>\n",
              "</div>"
            ],
            "text/plain": [
              "     buying maint  doors persons    trunk safety  class\n",
              "1723    low   low  5more    more  mediano    med   good\n",
              "1724    low   low  5more    more  mediano   high  vgood\n",
              "1725    low   low  5more    more   grande    low  unacc\n",
              "1726    low   low  5more    more   grande    med   good\n",
              "1727    low   low  5more    more   grande   high  vgood"
            ]
          },
          "execution_count": 10,
          "metadata": {},
          "output_type": "execute_result"
        }
      ],
      "source": [
        "df.head()\n",
        "df.tail()"
      ]
    },
    {
      "cell_type": "markdown",
      "id": "09a4c929",
      "metadata": {
        "id": "09a4c929"
      },
      "source": [
        "## 11. Extracción por índice con `iloc`\n",
        "Seleccionamos un subconjunto de filas y columnas usando posiciones numéricas."
      ]
    },
    {
      "cell_type": "code",
      "execution_count": null,
      "id": "b23103bc",
      "metadata": {
        "id": "b23103bc",
        "outputId": "92f8f14b-81f9-41b0-f717-872ff8e2d9fc"
      },
      "outputs": [
        {
          "data": {
            "text/html": [
              "<div>\n",
              "<style scoped>\n",
              "    .dataframe tbody tr th:only-of-type {\n",
              "        vertical-align: middle;\n",
              "    }\n",
              "\n",
              "    .dataframe tbody tr th {\n",
              "        vertical-align: top;\n",
              "    }\n",
              "\n",
              "    .dataframe thead th {\n",
              "        text-align: right;\n",
              "    }\n",
              "</style>\n",
              "<table border=\"1\" class=\"dataframe\">\n",
              "  <thead>\n",
              "    <tr style=\"text-align: right;\">\n",
              "      <th></th>\n",
              "      <th>buying</th>\n",
              "      <th>maint</th>\n",
              "      <th>doors</th>\n",
              "    </tr>\n",
              "  </thead>\n",
              "  <tbody>\n",
              "    <tr>\n",
              "      <th>0</th>\n",
              "      <td>vhigh</td>\n",
              "      <td>vhigh</td>\n",
              "      <td>2</td>\n",
              "    </tr>\n",
              "    <tr>\n",
              "      <th>1</th>\n",
              "      <td>vhigh</td>\n",
              "      <td>vhigh</td>\n",
              "      <td>2</td>\n",
              "    </tr>\n",
              "    <tr>\n",
              "      <th>2</th>\n",
              "      <td>vhigh</td>\n",
              "      <td>vhigh</td>\n",
              "      <td>2</td>\n",
              "    </tr>\n",
              "    <tr>\n",
              "      <th>3</th>\n",
              "      <td>vhigh</td>\n",
              "      <td>vhigh</td>\n",
              "      <td>2</td>\n",
              "    </tr>\n",
              "    <tr>\n",
              "      <th>4</th>\n",
              "      <td>vhigh</td>\n",
              "      <td>vhigh</td>\n",
              "      <td>2</td>\n",
              "    </tr>\n",
              "  </tbody>\n",
              "</table>\n",
              "</div>"
            ],
            "text/plain": [
              "  buying  maint doors\n",
              "0  vhigh  vhigh     2\n",
              "1  vhigh  vhigh     2\n",
              "2  vhigh  vhigh     2\n",
              "3  vhigh  vhigh     2\n",
              "4  vhigh  vhigh     2"
            ]
          },
          "execution_count": 11,
          "metadata": {},
          "output_type": "execute_result"
        }
      ],
      "source": [
        "df.iloc[0:5, 0:3]"
      ]
    },
    {
      "cell_type": "markdown",
      "id": "9acf84e0",
      "metadata": {
        "id": "9acf84e0"
      },
      "source": [
        "## 12. Filtros condicionales y selección de atributos\n",
        "Aplicamos filtros usando condiciones lógicas y seleccionamos columnas específicas."
      ]
    },
    {
      "cell_type": "code",
      "execution_count": null,
      "id": "3360d868",
      "metadata": {
        "id": "3360d868",
        "outputId": "a20d6266-c45b-4b8c-9189-d3c7dcfbaf45"
      },
      "outputs": [
        {
          "data": {
            "text/html": [
              "<div>\n",
              "<style scoped>\n",
              "    .dataframe tbody tr th:only-of-type {\n",
              "        vertical-align: middle;\n",
              "    }\n",
              "\n",
              "    .dataframe tbody tr th {\n",
              "        vertical-align: top;\n",
              "    }\n",
              "\n",
              "    .dataframe thead th {\n",
              "        text-align: right;\n",
              "    }\n",
              "</style>\n",
              "<table border=\"1\" class=\"dataframe\">\n",
              "  <thead>\n",
              "    <tr style=\"text-align: right;\">\n",
              "      <th></th>\n",
              "      <th>buying</th>\n",
              "      <th>maint</th>\n",
              "      <th>doors</th>\n",
              "      <th>persons</th>\n",
              "      <th>trunk</th>\n",
              "      <th>safety</th>\n",
              "      <th>class</th>\n",
              "    </tr>\n",
              "  </thead>\n",
              "  <tbody>\n",
              "    <tr>\n",
              "      <th>2</th>\n",
              "      <td>vhigh</td>\n",
              "      <td>vhigh</td>\n",
              "      <td>2</td>\n",
              "      <td>2</td>\n",
              "      <td>pequeño</td>\n",
              "      <td>high</td>\n",
              "      <td>unacc</td>\n",
              "    </tr>\n",
              "    <tr>\n",
              "      <th>5</th>\n",
              "      <td>vhigh</td>\n",
              "      <td>vhigh</td>\n",
              "      <td>2</td>\n",
              "      <td>2</td>\n",
              "      <td>mediano</td>\n",
              "      <td>high</td>\n",
              "      <td>unacc</td>\n",
              "    </tr>\n",
              "    <tr>\n",
              "      <th>8</th>\n",
              "      <td>vhigh</td>\n",
              "      <td>vhigh</td>\n",
              "      <td>2</td>\n",
              "      <td>2</td>\n",
              "      <td>grande</td>\n",
              "      <td>high</td>\n",
              "      <td>unacc</td>\n",
              "    </tr>\n",
              "    <tr>\n",
              "      <th>11</th>\n",
              "      <td>vhigh</td>\n",
              "      <td>vhigh</td>\n",
              "      <td>2</td>\n",
              "      <td>4</td>\n",
              "      <td>pequeño</td>\n",
              "      <td>high</td>\n",
              "      <td>unacc</td>\n",
              "    </tr>\n",
              "    <tr>\n",
              "      <th>14</th>\n",
              "      <td>vhigh</td>\n",
              "      <td>vhigh</td>\n",
              "      <td>2</td>\n",
              "      <td>4</td>\n",
              "      <td>mediano</td>\n",
              "      <td>high</td>\n",
              "      <td>unacc</td>\n",
              "    </tr>\n",
              "    <tr>\n",
              "      <th>...</th>\n",
              "      <td>...</td>\n",
              "      <td>...</td>\n",
              "      <td>...</td>\n",
              "      <td>...</td>\n",
              "      <td>...</td>\n",
              "      <td>...</td>\n",
              "      <td>...</td>\n",
              "    </tr>\n",
              "    <tr>\n",
              "      <th>1715</th>\n",
              "      <td>low</td>\n",
              "      <td>low</td>\n",
              "      <td>5more</td>\n",
              "      <td>4</td>\n",
              "      <td>mediano</td>\n",
              "      <td>high</td>\n",
              "      <td>vgood</td>\n",
              "    </tr>\n",
              "    <tr>\n",
              "      <th>1718</th>\n",
              "      <td>low</td>\n",
              "      <td>low</td>\n",
              "      <td>5more</td>\n",
              "      <td>4</td>\n",
              "      <td>grande</td>\n",
              "      <td>high</td>\n",
              "      <td>vgood</td>\n",
              "    </tr>\n",
              "    <tr>\n",
              "      <th>1721</th>\n",
              "      <td>low</td>\n",
              "      <td>low</td>\n",
              "      <td>5more</td>\n",
              "      <td>more</td>\n",
              "      <td>pequeño</td>\n",
              "      <td>high</td>\n",
              "      <td>good</td>\n",
              "    </tr>\n",
              "    <tr>\n",
              "      <th>1724</th>\n",
              "      <td>low</td>\n",
              "      <td>low</td>\n",
              "      <td>5more</td>\n",
              "      <td>more</td>\n",
              "      <td>mediano</td>\n",
              "      <td>high</td>\n",
              "      <td>vgood</td>\n",
              "    </tr>\n",
              "    <tr>\n",
              "      <th>1727</th>\n",
              "      <td>low</td>\n",
              "      <td>low</td>\n",
              "      <td>5more</td>\n",
              "      <td>more</td>\n",
              "      <td>grande</td>\n",
              "      <td>high</td>\n",
              "      <td>vgood</td>\n",
              "    </tr>\n",
              "  </tbody>\n",
              "</table>\n",
              "<p>576 rows × 7 columns</p>\n",
              "</div>"
            ],
            "text/plain": [
              "     buying  maint  doors persons    trunk safety  class\n",
              "2     vhigh  vhigh      2       2  pequeño   high  unacc\n",
              "5     vhigh  vhigh      2       2  mediano   high  unacc\n",
              "8     vhigh  vhigh      2       2   grande   high  unacc\n",
              "11    vhigh  vhigh      2       4  pequeño   high  unacc\n",
              "14    vhigh  vhigh      2       4  mediano   high  unacc\n",
              "...     ...    ...    ...     ...      ...    ...    ...\n",
              "1715    low    low  5more       4  mediano   high  vgood\n",
              "1718    low    low  5more       4   grande   high  vgood\n",
              "1721    low    low  5more    more  pequeño   high   good\n",
              "1724    low    low  5more    more  mediano   high  vgood\n",
              "1727    low    low  5more    more   grande   high  vgood\n",
              "\n",
              "[576 rows x 7 columns]"
            ]
          },
          "execution_count": 12,
          "metadata": {},
          "output_type": "execute_result"
        }
      ],
      "source": [
        "df[['buying', 'trunk']]\n",
        "df[df['safety'] == 'high']"
      ]
    },
    {
      "cell_type": "markdown",
      "id": "b5086686",
      "metadata": {
        "id": "b5086686"
      },
      "source": [
        "## 13. Exportación a archivo CSV\n",
        "Guardamos el dataframe procesado en un archivo llamado `car_data_modificado.csv`."
      ]
    },
    {
      "cell_type": "code",
      "execution_count": null,
      "id": "707b4f99",
      "metadata": {
        "id": "707b4f99"
      },
      "outputs": [],
      "source": [
        "df.to_csv('car_data_modificado.csv', index=False)"
      ]
    },
    {
      "cell_type": "markdown",
      "id": "424fc8e1",
      "metadata": {
        "id": "424fc8e1"
      },
      "source": [
        "## 15. Conclusiones\n",
        "- Se aplicaron correctamente técnicas de limpieza y transformación de datos categóricos.\n",
        "- Se exploraron valores únicos y frecuencias.\n",
        "- Se realizaron renombramientos y exportación del conjunto procesado.\n",
        "- Esta práctica refuerza el uso de `pandas` y `numpy` en tareas comunes de preprocesamiento en minería de datos."
      ]
    }
  ],
  "metadata": {
    "kernelspec": {
      "display_name": "Python 3 (ipykernel)",
      "language": "python",
      "name": "python3"
    },
    "language_info": {
      "codemirror_mode": {
        "name": "ipython",
        "version": 3
      },
      "file_extension": ".py",
      "mimetype": "text/x-python",
      "name": "python",
      "nbconvert_exporter": "python",
      "pygments_lexer": "ipython3",
      "version": "3.11.5"
    },
    "colab": {
      "provenance": [],
      "include_colab_link": true
    }
  },
  "nbformat": 4,
  "nbformat_minor": 5
}